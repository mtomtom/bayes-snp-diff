{
 "cells": [
  {
   "cell_type": "code",
   "execution_count": 11,
   "id": "e9af883d",
   "metadata": {},
   "outputs": [],
   "source": [
    "## Clean up the files\n",
    "import pandas as pd\n",
    "\n",
    "## Load in the files and rename the columns. Format: SNP eco1 eco2, transcript where eco1 = local tissue, and eco2 = distal\n",
    "## tissue in relation to sampling\n",
    "\n",
    "#snp_ref = pd.read_csv(\"snp_ref.csv\")\n",
    "test_data_path = \"/Users/tomkinsm/mrna-data-mining/bayesian_SNPs/z-score_mobility_files/Col_Ped_thieme_et_al/sample_wise/FN/\"\n",
    "output_path = \"test_data/\"\n",
    "\n",
    "## Load in the data files. Format each one individually.\n",
    "#df = pd.read_csv(\"Col_hom_root_thieme.txt\", delimiter=\"/t\")\n",
    "## Homografts\n",
    "df = pd.read_csv(test_data_path + \"C-C-root-FN.txt\", delimiter=\"\\t\")\n",
    "df = df[[\"SNP\",\"depth\", \"colDepth\",\"lerDepth\"]]\n",
    "df = df.rename(columns={\"colDepth\": \"eco1\", \"lerDepth\": \"eco2\", \"depth\": \"N\"})\n",
    "df.to_csv(output_path + \"C-C-root-FN.csv\", index=False)\n",
    "\n",
    "df = pd.read_csv(test_data_path + \"Col-FN-root-1.txt\", delimiter=\"\\t\")\n",
    "df = df[[\"SNP\",\"depth\", \"colDepth\",\"lerDepth\"]]\n",
    "df = df.rename(columns={\"colDepth\": \"eco1\", \"lerDepth\": \"eco2\", \"depth\": \"N\"})\n",
    "df.to_csv(output_path + \"Col-FN-root-1.csv\", index=False)\n",
    "\n",
    "df = pd.read_csv(test_data_path + \"P-P-root-FN.txt\", delimiter=\"\\t\")\n",
    "df = df[[\"SNP\",\"depth\", \"colDepth\",\"lerDepth\"]]\n",
    "df = df.rename(columns={\"colDepth\": \"eco1\", \"lerDepth\": \"eco2\", \"depth\": \"N\"})\n",
    "df.to_csv(output_path + \"P-P-root-FN.csv\", index=False)\n"
   ]
  },
  {
   "cell_type": "code",
   "execution_count": 8,
   "id": "a6c47150",
   "metadata": {},
   "outputs": [],
   "source": [
    "## Load in the reference file and add the transcripts IDs to our datafiles\n",
    "\n",
    "snp_ref = pd.read_csv(\"snp_ref.csv\")\n",
    "path = \"clean_files/\"\n",
    "from os import listdir\n",
    "from os.path import isfile, join\n",
    "myfiles = [f for f in listdir(path) if not f.startswith('.') and isfile(join(path, f))]\n",
    "\n",
    "for thisfile in myfiles:\n",
    "    df = pd.read_csv(path + thisfile, index_col = None)\n",
    "    df = pd.merge(df, snp_ref,on=\"SNP\")\n",
    "    df = df.rename(columns={\"transcripts\": \"ID\"})\n",
    "    df.to_csv(path + thisfile, index=False)"
   ]
  },
  {
   "cell_type": "code",
   "execution_count": 15,
   "id": "5896868b",
   "metadata": {},
   "outputs": [
    {
     "name": "stdout",
     "output_type": "stream",
     "text": [
      "SNP\n",
      "Chr1_1000114    -0.005952\n",
      "Chr1_10010338   -0.018496\n",
      "Chr1_10010400   -0.012683\n",
      "Chr1_10011655   -0.016523\n",
      "Chr1_10012019   -0.005047\n",
      "                   ...   \n",
      "ChrC_7612        0.000000\n",
      "ChrC_78515       0.004466\n",
      "ChrC_83899       0.083228\n",
      "ChrM_24179      -0.069052\n",
      "ChrM_279667     -0.305440\n",
      "Name: Bayes factor, Length: 173004, dtype: float64\n"
     ]
    }
   ],
   "source": [
    "## Process the output\n",
    "\n",
    "path = \"output/\"\n",
    "\n",
    "files = [\"Col-FN-root-1_results.csv\",\"Col-FN-root-3_results.csv\",\"Col-FN-root-3_results.csv\"]\n",
    "\n",
    "df_list = []\n",
    "for file in files:\n",
    "    df = pd.read_csv(path + file)\n",
    "    df_list.append(df)\n",
    "    \n",
    "df_concat = pd.concat(df_list)\n",
    "print(df_concat.groupby(\"SNP\")[\"Bayes factor\"].sum())\n",
    "    "
   ]
  },
  {
   "cell_type": "code",
   "execution_count": null,
   "id": "bc3f3632-1836-480b-8278-e6003bf22a66",
   "metadata": {},
   "outputs": [],
   "source": []
  }
 ],
 "metadata": {
  "kernelspec": {
   "display_name": "Python 3",
   "language": "python",
   "name": "python3"
  },
  "language_info": {
   "codemirror_mode": {
    "name": "ipython",
    "version": 3
   },
   "file_extension": ".py",
   "mimetype": "text/x-python",
   "name": "python",
   "nbconvert_exporter": "python",
   "pygments_lexer": "ipython3",
   "version": "3.6.10"
  }
 },
 "nbformat": 4,
 "nbformat_minor": 5
}
