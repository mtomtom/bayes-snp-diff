{
 "cells": [
  {
   "cell_type": "markdown",
   "id": "002d10f5",
   "metadata": {},
   "source": [
    "# Creating and analysing the simulated datasets #\n",
    "Current code includes: \n",
    "Number of transcripts: each transcript has its own SNPs, each with their own error rate, and its own mobility status.\n",
    "\n",
    "Number of SNPs: the number of SNPs per transcript (currently fixed).\n",
    "\n",
    "Number of replicates: We create 2 homograft files (Nhom1 and Nhom2), and then no_reps heterograft files. \n",
    "\n",
    "# Method A #\n",
    "\n",
    "If a single SNP has a read depth >= min_read_thresh, then it is flagged as being mobile. If 1 or more SNPs are flagged as being mobile, then the transcript is flagged as being mobile.\n",
    "\n",
    "# Handling SNPs #\n",
    "\n",
    "Bayes Factors: sum them all (should we point out in the paper that this is a useful advantage of this method?)\n",
    "\n",
    "Method A: snp_thresh SNPs need to have reads mapping to the other ecotype, in order for a mobile classification to be given for the transcript\n",
    "\n",
    "Method B: snp_thres SNPs need to have reads mapping to the other ecotype, in order for a mobile classification to be given for the transcript\n",
    "\n",
    "# Handling replicates #\n",
    "\n",
    "Bayes Factors: Again, very simple. We sum across replicates\n",
    "\n",
    "Method A: A transcript needs to have been given a mobile assignment in rep_thresh replicates, in order for a final mobile assignment to be given.\n",
    "\n",
    "Method B: A transcript needs to have been given a mobile assignment in rep_thresh replicates, in order for a final mobiel assigment to be given."
   ]
  },
  {
   "cell_type": "code",
   "execution_count": 1,
   "id": "418246fc",
   "metadata": {},
   "outputs": [
    {
     "data": {
      "image/png": "[encoded data removed]",
      "text/plain": [
       "<Figure size 432x288 with 1 Axes>"
      ]
     },
     "metadata": {
      "needs_background": "light"
     },
     "output_type": "display_data"
    }
   ],
   "source": [
    "import baymobil as baymob\n",
    "\n",
    "## Create the datasets. This function creates no_reps .csv files, storing them in the \"output\" folder. This will delete any previous files, so make sure you have moved anything that you still need.\n",
    "baymob.simulations.create_simulated_data()\n",
    "\n",
    "## Now, we load in and combine all of the replicate data, according to the above rules\n",
    "df = baymob.plot_data.load_data()\n",
    "\n",
    "## Plot and compare the accuracy (TP + TN) / (TP + TN + FP + FN) of the three different methods on our simulated datasets\n",
    "baymob.plot_data.plot_data(df,\"q\")\n"
   ]
  },
  {
   "cell_type": "code",
   "execution_count": null,
   "id": "02de32b6",
   "metadata": {},
   "outputs": [],
   "source": []
  },
  {
   "cell_type": "code",
   "execution_count": null,
   "id": "74c4036c",
   "metadata": {},
   "outputs": [],
   "source": []
  },
  {
   "cell_type": "code",
   "execution_count": null,
   "id": "e68d72b2",
   "metadata": {},
   "outputs": [],
   "source": []
  }
 ],
 "metadata": {
  "kernelspec": {
   "display_name": "Python 3.8.9 64-bit",
   "language": "python",
   "name": "python3"
  },
  "language_info": {
   "codemirror_mode": {
    "name": "ipython",
    "version": 3
   },
   "file_extension": ".py",
   "mimetype": "text/x-python",
   "name": "python",
   "nbconvert_exporter": "python",
   "pygments_lexer": "ipython3",
   "version": "3.8.9"
  },
  "vscode": {
   "interpreter": {
    "hash": "31f2aee4e71d21fbe5cf8b01ff0e069b9275f58929596ceb00d14d90e3e16cd6"
   }
  }
 },
 "nbformat": 4,
 "nbformat_minor": 5
}
