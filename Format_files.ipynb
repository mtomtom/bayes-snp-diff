{
 "cells": [
  {
   "cell_type": "code",
   "execution_count": 26,
   "id": "e9af883d",
   "metadata": {},
   "outputs": [],
   "source": [
    "## Clean up the files\n",
    "import pandas as pd\n",
    "\n",
    "## Load in the files and rename the columns. Format: SNP eco1 eco2, transcript where eco1 = local tissue, and eco2 = distal\n",
    "## tissue in relation to sampling\n",
    "\n",
    "#snp_ref = pd.read_csv(\"snp_ref.csv\")\n",
    "test_data_path = \"/Users/tomkinsm/mrna-data-mining/bayesian_SNPs/z-score_mobility_files/Col_Ped_thieme_et_al/sample_wise/FN/\"\n",
    "output_path = \"test_data/\"\n",
    "\n",
    "## Load in the data files. Format each one individually.\n",
    "#df = pd.read_csv(\"Col_hom_root_thieme.txt\", delimiter=\"/t\")\n",
    "## Homografts - Col is eco1 and Ler is eco2\n",
    "df = pd.read_csv(test_data_path + \"C-C-root-FN.txt\", delimiter=\"\\t\")\n",
    "df = df[[\"SNP\",\"depth\", \"colDepth\",\"lerDepth\"]]\n",
    "df = df.rename(columns={\"colDepth\": \"eco1\", \"lerDepth\": \"eco2\", \"depth\": \"N\"})\n",
    "df.to_csv(output_path + \"C-C-root-FN.csv\", index=False)\n",
    "\n",
    "df = pd.read_csv(test_data_path + \"Col-FN-root-3.txt\", delimiter=\"\\t\")\n",
    "df = df[[\"SNP\",\"depth\", \"colDepth\",\"lerDepth\"]]\n",
    "df = df.rename(columns={\"colDepth\": \"eco1\", \"lerDepth\": \"eco2\", \"depth\": \"N\"})\n",
    "df.to_csv(output_path + \"Col-FN-root-3.csv\", index=False)\n",
    "\n",
    "## Here, Ler is eco1 and col is eco2\n",
    "df = pd.read_csv(test_data_path + \"P-P-root-FN.txt\", delimiter=\"\\t\")\n",
    "df = df[[\"SNP\",\"depth\", \"colDepth\",\"lerDepth\"]]\n",
    "df = df.rename(columns={\"colDepth\": \"eco2\", \"lerDepth\": \"eco1\", \"depth\": \"N\"})\n",
    "df.to_csv(output_path + \"P-P-root-FN.csv\", index=False)\n"
   ]
  },
  {
   "cell_type": "code",
   "execution_count": 33,
   "id": "a6c47150",
   "metadata": {},
   "outputs": [
    {
     "ename": "FileNotFoundError",
     "evalue": "[Errno 2] No such file or directory: 'clean_files/'",
     "output_type": "error",
     "traceback": [
      "\u001b[0;31m---------------------------------------------------------------------------\u001b[0m",
      "\u001b[0;31mFileNotFoundError\u001b[0m                         Traceback (most recent call last)",
      "\u001b[0;32m<ipython-input-33-d908f8930af3>\u001b[0m in \u001b[0;36m<module>\u001b[0;34m\u001b[0m\n\u001b[1;32m      5\u001b[0m \u001b[0;32mfrom\u001b[0m \u001b[0mos\u001b[0m \u001b[0;32mimport\u001b[0m \u001b[0mlistdir\u001b[0m\u001b[0;34m\u001b[0m\u001b[0;34m\u001b[0m\u001b[0m\n\u001b[1;32m      6\u001b[0m \u001b[0;32mfrom\u001b[0m \u001b[0mos\u001b[0m\u001b[0;34m.\u001b[0m\u001b[0mpath\u001b[0m \u001b[0;32mimport\u001b[0m \u001b[0misfile\u001b[0m\u001b[0;34m,\u001b[0m \u001b[0mjoin\u001b[0m\u001b[0;34m\u001b[0m\u001b[0;34m\u001b[0m\u001b[0m\n\u001b[0;32m----> 7\u001b[0;31m \u001b[0mmyfiles\u001b[0m \u001b[0;34m=\u001b[0m \u001b[0;34m[\u001b[0m\u001b[0mf\u001b[0m \u001b[0;32mfor\u001b[0m \u001b[0mf\u001b[0m \u001b[0;32min\u001b[0m \u001b[0mlistdir\u001b[0m\u001b[0;34m(\u001b[0m\u001b[0mpath\u001b[0m\u001b[0;34m)\u001b[0m \u001b[0;32mif\u001b[0m \u001b[0;32mnot\u001b[0m \u001b[0mf\u001b[0m\u001b[0;34m.\u001b[0m\u001b[0mstartswith\u001b[0m\u001b[0;34m(\u001b[0m\u001b[0;34m'.'\u001b[0m\u001b[0;34m)\u001b[0m \u001b[0;32mand\u001b[0m \u001b[0misfile\u001b[0m\u001b[0;34m(\u001b[0m\u001b[0mjoin\u001b[0m\u001b[0;34m(\u001b[0m\u001b[0mpath\u001b[0m\u001b[0;34m,\u001b[0m \u001b[0mf\u001b[0m\u001b[0;34m)\u001b[0m\u001b[0;34m)\u001b[0m\u001b[0;34m]\u001b[0m\u001b[0;34m\u001b[0m\u001b[0;34m\u001b[0m\u001b[0m\n\u001b[0m\u001b[1;32m      8\u001b[0m \u001b[0;34m\u001b[0m\u001b[0m\n\u001b[1;32m      9\u001b[0m \u001b[0;32mfor\u001b[0m \u001b[0mthisfile\u001b[0m \u001b[0;32min\u001b[0m \u001b[0mmyfiles\u001b[0m\u001b[0;34m:\u001b[0m\u001b[0;34m\u001b[0m\u001b[0;34m\u001b[0m\u001b[0m\n",
      "\u001b[0;31mFileNotFoundError\u001b[0m: [Errno 2] No such file or directory: 'clean_files/'"
     ]
    }
   ],
   "source": [
    "## Load in the reference file and add the transcripts IDs to our datafiles\n",
    "\n",
    "snp_ref = pd.read_csv(\"snp_ref.csv\")\n",
    "path = \"\"\n",
    "from os import listdir\n",
    "from os.path import isfile, join\n",
    "myfiles = [f for f in listdir(path) if not f.startswith('.') and isfile(join(path, f))]\n",
    "\n",
    "for thisfile in myfiles:\n",
    "    df = pd.read_csv(path + thisfile, index_col = None)\n",
    "    df = pd.merge(df, snp_ref,on=\"SNP\")\n",
    "    df = df.rename(columns={\"transcripts\": \"ID\"})\n",
    "    df.to_csv(path + thisfile, index=False)"
   ]
  },
  {
   "cell_type": "code",
   "execution_count": 35,
   "id": "5896868b",
   "metadata": {},
   "outputs": [
    {
     "name": "stdout",
     "output_type": "stream",
     "text": [
      "      transcripts  Bayes factor\n",
      "17046   AT5G25980     11.877341\n",
      "1791    AT1G20620     11.790722\n",
      "2346    AT1G29930      8.320537\n",
      "2105    AT1G26250      5.603151\n",
      "10682   AT3G45140      4.836914\n",
      "...           ...           ...\n",
      "17358   AT5G37830   -588.471671\n",
      "7095    AT2G34780   -606.770042\n",
      "4291    AT1G69440   -613.214151\n",
      "16957   AT5G24740   -693.335446\n",
      "7701    AT2G42270   -786.740378\n",
      "\n",
      "[19600 rows x 2 columns]\n",
      "       transcripts        exp    BF total\n",
      "125      AT1G26250  ColrootFN   16.591898\n",
      "193      AT1G20620  ColrootFN    8.979969\n",
      "208      AT3G45140  ColrootFN    8.157017\n",
      "355      AT5G42050  ColrootFN    3.188611\n",
      "469      AT4G30190  ColrootFN    1.768309\n",
      "...            ...        ...         ...\n",
      "152832   AT5G37830  ColrootFN -594.827527\n",
      "152836   AT2G34780  ColrootFN -596.662497\n",
      "152838   AT1G69440  ColrootFN -600.087101\n",
      "152869   AT5G24740  ColrootFN -703.682856\n",
      "152886   AT2G42270  ColrootFN -804.790630\n",
      "\n",
      "[19722 rows x 3 columns]\n"
     ]
    }
   ],
   "source": [
    "## Process the output and compare with Franziska's results\n",
    "\n",
    "f_results = pd.read_csv(\"/Users/tomkinsm/Dropbox/mRNA-transport-probabilities/franziska_melissa/updateFRANZISKA/BF_col-ped_all_exp.csv\")\n",
    "path = \"output/\"\n",
    "\n",
    "files = [\"Col-FN-root-1_results.csv\",\"Col-FN-root-3_results.csv\",\"Col-FN-root-3_results.csv\"]\n",
    "\n",
    "df_list = []\n",
    "for file in files:\n",
    "    df = pd.read_csv(path + file)\n",
    "    df_list.append(df)\n",
    "    \n",
    "df_concat = pd.concat(df_list)\n",
    "#print(df_concat.groupby(\"SNP\")[\"Bayes factor\"].sum())\n",
    "\n",
    "## Load in snp_ref file\n",
    "\n",
    "snp_ref = pd.read_csv(\"snp_ref.csv\")\n",
    "\n",
    "df_final = pd.merge(df_concat, snp_ref, on=\"SNP\")\n",
    "\n",
    "print(df_final.groupby(\"transcripts\")[\"Bayes factor\"].sum().reset_index().sort_values(\"Bayes factor\", ascending = False))\n",
    "print(f_results[f_results[\"exp\"]==\"ColrootFN\"])\n",
    "    "
   ]
  },
  {
   "cell_type": "code",
   "execution_count": 28,
   "id": "bc3f3632-1836-480b-8278-e6003bf22a66",
   "metadata": {},
   "outputs": [
    {
     "name": "stderr",
     "output_type": "stream",
     "text": [
      "/usr/local/Caskroom/miniconda/base/envs/py36env/lib/python3.6/site-packages/IPython/core/interactiveshell.py:3072: DtypeWarning: Columns (1,2,3) have mixed types.Specify dtype option on import or set low_memory=False.\n",
      "  interactivity=interactivity, compiler=compiler, result=result)\n"
     ]
    },
    {
     "name": "stdout",
     "output_type": "stream",
     "text": [
      "                SNP    N eco1 eco2\n",
      "0         Chr1_4880  132  132    0\n",
      "1         Chr1_5501  153  153    0\n",
      "2         Chr1_5685  133  133    0\n",
      "3         Chr1_7202   54   54    0\n",
      "4         Chr1_7203   54   54    0\n",
      "...             ...  ...  ...  ...\n",
      "366191  ChrM_297891    .    .    .\n",
      "366192  ChrM_297896    .    .    .\n",
      "366193  ChrM_297933    .    .    .\n",
      "366194  ChrM_297985    .    .    .\n",
      "366195  ChrM_298170    .    .    .\n",
      "\n",
      "[366196 rows x 4 columns]\n",
      "                SNP  Bayes factor\n",
      "0         Chr1_4880     -1.697947\n",
      "1         Chr1_5501     -2.040523\n",
      "2         Chr1_5685     -1.731432\n",
      "3         Chr1_7202     -1.810173\n",
      "4         Chr1_7203     -1.810173\n",
      "...             ...           ...\n",
      "169824  ChrC_123429     -1.182931\n",
      "169825  ChrC_126456     -1.346787\n",
      "169826  ChrC_127160     -1.748576\n",
      "169827   ChrM_24179     -1.198791\n",
      "169828  ChrM_279667     -0.577236\n",
      "\n",
      "[169829 rows x 2 columns]\n",
      "                SNP    N eco1 eco2\n",
      "0         Chr1_4880  292  292    0\n",
      "1         Chr1_5501  346  346    0\n",
      "2         Chr1_5685  318  318    0\n",
      "3         Chr1_7202  104  104    0\n",
      "4         Chr1_7203  104  104    0\n",
      "...             ...  ...  ...  ...\n",
      "366191  ChrM_297891    .    .    .\n",
      "366192  ChrM_297896    .    .    .\n",
      "366193  ChrM_297933    .    .    .\n",
      "366194  ChrM_297985    .    .    .\n",
      "366195  ChrM_298170    .    .    .\n",
      "\n",
      "[366196 rows x 4 columns]\n",
      "                SNP    N eco2 eco1\n",
      "0         Chr1_4880   98    1   97\n",
      "1         Chr1_5501  108    0  108\n",
      "2         Chr1_5685   52    0   52\n",
      "3         Chr1_7202   63    0   63\n",
      "4         Chr1_7203   63    0   63\n",
      "...             ...  ...  ...  ...\n",
      "366191  ChrM_297891    .    .    .\n",
      "366192  ChrM_297896    .    .    .\n",
      "366193  ChrM_297933    .    .    .\n",
      "366194  ChrM_297985    .    .    .\n",
      "366195  ChrM_298170    .    .    .\n",
      "\n",
      "[366196 rows x 4 columns]\n"
     ]
    }
   ],
   "source": [
    "## Check these values make sense\n",
    "\n",
    "data_in = pd.read_csv(\"test_data/Col-FN-root-1.csv\")\n",
    "data_out = pd.read_csv(\"output/Col-FN-root-1_results.csv\")\n",
    "\n",
    "hom1 = pd.read_csv(\"test_data/C-C-root-FN.csv\")\n",
    "hom2 = pd.read_csv(\"test_data/P-P-root-FN.csv\")\n",
    "print(data_in)\n",
    "print(data_out)\n",
    "print(hom1)\n",
    "print(hom2)"
   ]
  },
  {
   "cell_type": "code",
   "execution_count": null,
   "id": "35bee610-29bc-4e2f-b9c8-b84018e29955",
   "metadata": {},
   "outputs": [],
   "source": []
  }
 ],
 "metadata": {
  "kernelspec": {
   "display_name": "Python 3",
   "language": "python",
   "name": "python3"
  },
  "language_info": {
   "codemirror_mode": {
    "name": "ipython",
    "version": 3
   },
   "file_extension": ".py",
   "mimetype": "text/x-python",
   "name": "python",
   "nbconvert_exporter": "python",
   "pygments_lexer": "ipython3",
   "version": "3.6.10"
  }
 },
 "nbformat": 4,
 "nbformat_minor": 5
}
