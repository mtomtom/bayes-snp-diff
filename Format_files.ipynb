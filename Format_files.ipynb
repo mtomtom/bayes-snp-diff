{
 "cells": [
  {
   "cell_type": "code",
   "execution_count": 6,
   "id": "e9af883d",
   "metadata": {},
   "outputs": [],
   "source": [
    "## Clean up the files\n",
    "import pandas as pd\n",
    "\n",
    "## Load in the files and rename the columns. Format: SNP eco1 eco2, transcript where eco1 = local tissue, and eco2 = distal\n",
    "## tissue in relation to sampling\n",
    "\n",
    "#snp_ref = pd.read_csv(\"snp_ref.csv\")\n",
    "test_data_path = \"test_data/\"\n",
    "output_path = \"output/\"\n",
    "\n",
    "## If the directory exists, then remove it and replace it with an empty directory\n",
    "import os\n",
    "import shutil\n",
    "\n",
    "if os.path.exists(output_path) and os.path.isdir(output_path):\n",
    "    shutil.rmtree(output_path)\n",
    "    \n",
    "os.mkdir(output_path)\n",
    "\n",
    "## Load in the data files. Format each one individually.\n",
    "#df = pd.read_csv(\"Col_hom_root_thieme.txt\", delimiter=\"/t\")\n",
    "## Homografts\n",
    "df = pd.read_csv(test_data_path + \"C-C-shoot-FN.txt\", delimiter=\"\\t\")\n",
    "df = df[[\"SNP\",\"depth\", \"colDepth\",\"lerDepth\"]]\n",
    "df = df.rename(columns={\"colDepth\": \"eco1\", \"lerDepth\": \"eco2\", \"depth\": \"N\"})\n",
    "df.to_csv(output_path + \"C-C-shoot-FN.csv\", index=False)\n",
    "\n",
    "df = pd.read_csv(test_data_path + \"Col-FN-shoot-1.txt\", delimiter=\"\\t\")\n",
    "df = df[[\"SNP\",\"depth\", \"colDepth\",\"lerDepth\"]]\n",
    "df = df.rename(columns={\"colDepth\": \"eco1\", \"lerDepth\": \"eco2\", \"depth\": \"N\"})\n",
    "df.to_csv(output_path + \"Col-FN-shoot-1.csv\", index=False)\n",
    "\n",
    "df = pd.read_csv(test_data_path + \"P-P-shoot-FN.txt\", delimiter=\"\\t\")\n",
    "df = df[[\"SNP\",\"depth\", \"colDepth\",\"lerDepth\"]]\n",
    "df = df.rename(columns={\"colDepth\": \"eco1\", \"lerDepth\": \"eco2\", \"depth\": \"N\"})\n",
    "df.to_csv(output_path + \"P-P-shoot-FN.csv\", index=False)\n"
   ]
  },
  {
   "cell_type": "code",
   "execution_count": 8,
   "id": "a6c47150",
   "metadata": {},
   "outputs": [],
   "source": [
    "## Load in the reference file and add the transcripts IDs to our datafiles\n",
    "\n",
    "snp_ref = pd.read_csv(\"snp_ref.csv\")\n",
    "path = \"clean_files/\"\n",
    "from os import listdir\n",
    "from os.path import isfile, join\n",
    "myfiles = [f for f in listdir(path) if not f.startswith('.') and isfile(join(path, f))]\n",
    "\n",
    "for thisfile in myfiles:\n",
    "    df = pd.read_csv(path + thisfile, index_col = None)\n",
    "    df = pd.merge(df, snp_ref,on=\"SNP\")\n",
    "    df = df.rename(columns={\"transcripts\": \"ID\"})\n",
    "    df.to_csv(path + thisfile, index=False)"
   ]
  },
  {
   "cell_type": "code",
   "execution_count": null,
   "id": "5896868b",
   "metadata": {},
   "outputs": [],
   "source": []
  }
 ],
 "metadata": {
  "kernelspec": {
   "display_name": "Python 3",
   "language": "python",
   "name": "python3"
  },
  "language_info": {
   "codemirror_mode": {
    "name": "ipython",
    "version": 3
   },
   "file_extension": ".py",
   "mimetype": "text/x-python",
   "name": "python",
   "nbconvert_exporter": "python",
   "pygments_lexer": "ipython3",
   "version": "3.6.10"
  }
 },
 "nbformat": 4,
 "nbformat_minor": 5
}
